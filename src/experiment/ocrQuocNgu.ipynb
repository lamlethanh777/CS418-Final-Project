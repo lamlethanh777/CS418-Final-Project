{
 "cells": [
  {
   "cell_type": "code",
   "execution_count": null,
   "metadata": {},
   "outputs": [],
   "source": [
    "%pip install PyPDF2"
   ]
  },
  {
   "cell_type": "code",
   "execution_count": null,
   "metadata": {},
   "outputs": [],
   "source": [
    "import io\n",
    "import os\n",
    "import fitz\n",
    "import re\n",
    "from PIL import Image\n",
    "from google.cloud import vision\n",
    "import PyPDF2"
   ]
  },
  {
   "cell_type": "code",
   "execution_count": null,
   "metadata": {},
   "outputs": [],
   "source": [
    "# Đường dẫn đến file PDF\n",
    "file = \"raw/Sach-Nom-Cong-Giao-1995-012.pdf\"\n",
    "\n",
    "os.environ['GOOGLE_APPLICATION_CREDENTIALS'] = 'nth-wording-440008-v3-5799f3182196.json'\n",
    "QUOCNGU_CHARSET = 'aAàÀảẢãÃáÁạẠăĂằẰẳẲẵẴắẮặẶâÂầẦẩẨẫẪấẤậẬbBcCdDđĐeEèÈẻẺẽẼéÉẹẸêÊềỀểỂễỄếẾệỆfFgGhHiIìÌỉỈĩĨíÍịỊjJkKlLmMnNoOòÒỏỎõÕóÓọỌôÔồỒổỔỗỖốỐộỘơƠờỜởỞỡỠớỚợỢpPqQrRsStTuUùÙủỦũŨúÚụỤưƯừỪửỬữỮứỨựỰvVwWxXyYỳỲỷỶỹỸýÝỵỴzZ'"
   ]
  },
  {
   "cell_type": "code",
   "execution_count": null,
   "metadata": {},
   "outputs": [],
   "source": [
    "def resize_image(image_path, max_size=1000, output_file=None):\n",
    "    with Image.open(image_path) as img:\n",
    "        width, height = img.size\n",
    "        total_size = width + height\n",
    "\n",
    "        if total_size > max_size:\n",
    "            scale_factor = max_size / total_size\n",
    "            new_width = int(width * scale_factor)\n",
    "            new_height = int(height * scale_factor)\n",
    "            img = img.resize((new_width, new_height), Image.LANCZOS)\n",
    "            img.save(image_path)\n",
    "            print(f\"Resized image '{image_path}' to {new_width}x{new_height}\")\n",
    "\n",
    "            if output_file:\n",
    "                output_file.write(f\"{os.path.basename(image_path)}\\n\")\n",
    "        else:\n",
    "            print(f\"Image '{image_path}' does not need resizing.\")\n",
    "            \n",
    "def is_quoc_ngu(text):\n",
    "    return any(char in QUOCNGU_CHARSET for char in text)"
   ]
  },
  {
   "cell_type": "code",
   "execution_count": null,
   "metadata": {},
   "outputs": [],
   "source": [
    "def perform_ocr(image_path, output_file=\"output.txt\"):\n",
    "    client = vision.ImageAnnotatorClient()\n",
    "    \n",
    "    # Mở và đọc hình ảnh từ file\n",
    "    with open(image_path, \"rb\") as image_file:\n",
    "        content = image_file.read()\n",
    "\n",
    "    # Tạo đối tượng hình ảnh cho Google Vision API\n",
    "    image = vision.Image(content=content)\n",
    "\n",
    "    # Gọi Google Vision API để thực hiện OCR\n",
    "    response = client.document_text_detection(image=image)\n",
    "    texts = response.text_annotations\n",
    "\n",
    "    # Ghi kết quả OCR vào file\n",
    "    with open(output_file, 'a', encoding='utf-8') as f:\n",
    "        if texts:\n",
    "            # Lấy văn bản chính duy nhất\n",
    "            full_text = texts[0].description\n",
    "            \n",
    "            # Tách từng dòng và chỉ ghi các dòng có chữ quốc ngữ\n",
    "            for line in full_text.splitlines():\n",
    "                if is_quoc_ngu(line):  # Chỉ ghi dòng nếu nó chứa chữ quốc ngữ\n",
    "                    f.write(line + \"\\n\")\n",
    "        else:\n",
    "            f.write(\"No text detected in the image.\\n\")\n",
    "\n",
    "    # Kiểm tra lỗi từ API\n",
    "    if response.error.message:\n",
    "        raise Exception(response.error.message)"
   ]
  },
  {
   "cell_type": "code",
   "execution_count": null,
   "metadata": {},
   "outputs": [],
   "source": []
  },
  {
   "cell_type": "code",
   "execution_count": null,
   "metadata": {},
   "outputs": [],
   "source": [
    "def split_pdf(input_pdf, start_page, end_page, output_pdf):\n",
    "    try:\n",
    "        # Mở file PDF gốc\n",
    "        with open(input_pdf, 'rb') as pdf_file:\n",
    "            reader = PyPDF2.PdfReader(pdf_file)\n",
    "            writer = PyPDF2.PdfWriter()\n",
    "            \n",
    "            # Kiểm tra giá trị hợp lệ\n",
    "            if start_page < 1 or end_page > len(reader.pages) or start_page > end_page:\n",
    "                print(\"Invalid page range.\")\n",
    "                return\n",
    "            \n",
    "            # Thêm các trang được chọn vào file mới\n",
    "            for i in range(start_page - 1, end_page):\n",
    "                writer.add_page(reader.pages[i])\n",
    "            \n",
    "            # Lưu file PDF mới\n",
    "            with open(output_pdf, 'wb') as output_file:\n",
    "                writer.write(output_file)\n",
    "            \n",
    "            print(f\"Đã tách file PDF từ trang {start_page} đến {end_page} và lưu vào '{output_pdf}'.\")\n",
    "\n",
    "    except Exception as e:\n",
    "        print(f\"Lỗi: {e}\")\n",
    "\n",
    "# Ví dụ sử dụng\n",
    "input_pdf_path = \"raw/Sach-Nom-Cong-Giao-1995-012.pdf\"  # Thay bằng đường dẫn file gốc\n",
    "output_pdf_path = \"outputPDF.pdf\"  # Thay bằng đường dẫn file đầu ra\n",
    "start_page = int(input(\"Nhập trang bắt đầu: \"))\n",
    "end_page = int(input(\"Nhập trang kết thúc: \"))\n",
    "split_pdf(input_pdf_path, start_page, end_page, output_pdf_path)"
   ]
  }
 ],
 "metadata": {
  "kernelspec": {
   "display_name": "nlp_env",
   "language": "python",
   "name": "python3"
  },
  "language_info": {
   "codemirror_mode": {
    "name": "ipython",
    "version": 3
   },
   "file_extension": ".py",
   "mimetype": "text/x-python",
   "name": "python",
   "nbconvert_exporter": "python",
   "pygments_lexer": "ipython3",
   "version": "3.9.20"
  }
 },
 "nbformat": 4,
 "nbformat_minor": 2
}
